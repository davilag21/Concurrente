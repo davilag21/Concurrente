{
  "cells": [
    {
      "cell_type": "code",
      "execution_count": 1,
      "metadata": {
        "id": "MMK0Ujlis7Gs"
      },
      "outputs": [],
      "source": [
        "import multiprocessing as mp\n",
        "import time\n",
        "import random"
      ]
    },
    {
      "cell_type": "code",
      "execution_count": 2,
      "metadata": {
        "id": "onDYaOWts7Gv"
      },
      "outputs": [],
      "source": [
        "class Carro():\n",
        "  def __init__(self, id):\n",
        "    self.id = id\n",
        "    self.dir = random.randint(0,1)\n",
        "    self.paso = 0"
      ]
    },
    {
      "cell_type": "code",
      "execution_count": 7,
      "metadata": {
        "id": "kFsbPRxys7Gw"
      },
      "outputs": [],
      "source": [
        "def cruza_puente(dirección, ocupado, casillas, puente, carrito):\n",
        "  print(f\"Carrito {carrito.id} llegando en dirección \\\n",
        "    {'Norte' if carrito.dir else 'Sur'}\")\n",
        "  while carrito.paso == 0:\n",
        "    if not ocupado.value:\n",
        "      ocupado.value = 1\n",
        "      dirección.value = carrito.dir\n",
        "    if carrito.dir == dirección.value:\n",
        "      print(f\"Carrito{carrito.id} por entrar al puente\")\n",
        "      with puente:\n",
        "        for i, casilla in enumerate(casillas):\n",
        "          print(f\"Carrito{carrito.id} tratando de avanzar a casilla {i}\")\n",
        "          with casilla:\n",
        "            print(f\"Carrito \\t{carrito.id} entró a {i}\")\n",
        "            time.sleep(random.randint(0, 3))\n",
        "          print(f\"Carrito \\t{carrito.id} pasó la casilla {i}\")\n",
        "        carrito.paso = 1\n",
        "    if puente.get_value() == 3:\n",
        "      ocupado.value = 0\n",
        "    time.sleep(random.randint(0, 3))"
      ]
    },
    {
      "cell_type": "code",
      "execution_count": 8,
      "metadata": {
        "colab": {
          "base_uri": "https://localhost:8080/"
        },
        "id": "w3INip7as7Gw",
        "outputId": "2d413a5d-0e9f-40e0-a45b-341857735e99"
      },
      "outputs": [
        {
          "output_type": "stream",
          "name": "stdout",
          "text": [
            "Carrito 0 llegando en dirección     Norte\n",
            "Carrito 2 llegando en dirección     SurCarrito 1 llegando en dirección     NorteCarrito0 por entrar al puente\n",
            "\n",
            "\n",
            "Carrito1 por entrar al puenteCarrito0 tratando de avanzar a casilla 0Carrito 3 llegando en dirección     Sur\n",
            "\n",
            "\n",
            "Carrito \t0 entró a 0Carrito1 tratando de avanzar a casilla 0\n",
            "\n",
            "Carrito \t0 pasó la casilla 0Carrito \t1 entró a 0\n",
            "\n",
            "Carrito0 tratando de avanzar a casilla 1Carrito \t1 pasó la casilla 0\n",
            "Carrito \t0 entró a 1\n",
            "\n",
            "Carrito1 tratando de avanzar a casilla 1\n",
            "Carrito \t0 pasó la casilla 1Carrito \t1 entró a 1\n",
            "Carrito0 tratando de avanzar a casilla 2\n",
            "\n",
            "Carrito \t0 entró a 2\n",
            "Carrito \t0 pasó la casilla 2\n",
            "Carrito \t1 pasó la casilla 1\n",
            "Carrito1 tratando de avanzar a casilla 2\n",
            "Carrito \t1 entró a 2\n",
            "Carrito \t1 pasó la casilla 2\n",
            "Carrito3 por entrar al puente\n",
            "Carrito3 tratando de avanzar a casilla 0\n",
            "Carrito \t3 entró a 0\n",
            "Carrito2 por entrar al puente\n",
            "\n",
            "Carrito2 tratando de avanzar a casilla 0Carrito \t3 pasó la casilla 0Carrito \t2 entró a 0\n",
            "\n",
            "Carrito3 tratando de avanzar a casilla 1\n",
            "Carrito \t3 entró a 1\n",
            "Carrito \t2 pasó la casilla 0\n",
            "Carrito2 tratando de avanzar a casilla 1\n",
            "Carrito \t3 pasó la casilla 1Carrito \t2 entró a 1\n",
            "Carrito3 tratando de avanzar a casilla 2\n",
            "\n",
            "Carrito \t3 entró a 2\n",
            "Carrito \t2 pasó la casilla 1\n",
            "Carrito2 tratando de avanzar a casilla 2Carrito \t3 pasó la casilla 2\n",
            "\n",
            "Carrito \t2 entró a 2\n",
            "Carrito \t2 pasó la casilla 2\n"
          ]
        }
      ],
      "source": [
        "if __name__ == '__main__':\n",
        "    num_carritos = 4\n",
        "    carritos = [Carro(i) for i in range(num_carritos)]\n",
        "    casillas = [mp.Semaphore() for _ in range(3)]\n",
        "    puente = mp.Semaphore(len(casillas))\n",
        "    ocupado = mp.Value('i', 0)\n",
        "    direccion = mp.Value('i', 0)\n",
        "\n",
        "    procesos = []\n",
        "    for i in range(num_carritos):\n",
        "        procesos.append(mp.Process(target=cruza_puente,\n",
        "                                   args=(direccion,\n",
        "                                        ocupado,\n",
        "                                        casillas,\n",
        "                                        puente,\n",
        "                                        carritos[i],)))\n",
        "    for proceso in procesos:\n",
        "        proceso.start()\n",
        "\n",
        "    for proceso in procesos:\n",
        "        proceso.join()"
      ]
    }
  ],
  "metadata": {
    "kernelspec": {
      "display_name": "Python 3.10.6 ('venv': venv)",
      "language": "python",
      "name": "python3"
    },
    "language_info": {
      "codemirror_mode": {
        "name": "ipython",
        "version": 3
      },
      "file_extension": ".py",
      "mimetype": "text/x-python",
      "name": "python",
      "nbconvert_exporter": "python",
      "pygments_lexer": "ipython3",
      "version": "3.10.6"
    },
    "orig_nbformat": 4,
    "vscode": {
      "interpreter": {
        "hash": "63f003dfc62f5fc90060e9b945da21d1e5fe5b2d4a18209622a889eaaae931b0"
      }
    },
    "colab": {
      "provenance": []
    }
  },
  "nbformat": 4,
  "nbformat_minor": 0
}